{
 "cells": [
  {
   "cell_type": "code",
   "execution_count": 22,
   "metadata": {},
   "outputs": [],
   "source": [
    "import pandas as pd\n",
    "import requests\n",
    "from bs4 import BeautifulSoup\n",
    "import numpy as np\n",
    "from tqdm import tqdm"
   ]
  },
  {
   "cell_type": "code",
   "execution_count": 23,
   "metadata": {},
   "outputs": [],
   "source": [
    "url = 'http://olympanalyt.com/OlympAnalytics.php?param_pagetype=ResultsOfCountries&param_dbversion=&param_country=QAT&param_games=ALL&param_sport=ALL'\n",
    "response = requests.get(url)\n",
    "soup = BeautifulSoup(response.text, 'html.parser')\n",
    "table = soup.findAll('table')[0]\n",
    "# print(table)\n",
    "countries = []\n",
    "for tr in table.findAll(\"tr\"):\n",
    "    trs = tr.findAll(\"td\")\n",
    "    for each in trs:\n",
    "        optionAll = each.findAll('option')\n",
    "        for option in optionAll:\n",
    "            try:\n",
    "                if len(option['value']) == 3 and option['value'] != 'ALL':\n",
    "                    countries.append(option['value'])\n",
    "            except:\n",
    "                continue"
   ]
  },
  {
   "cell_type": "code",
   "execution_count": 24,
   "metadata": {},
   "outputs": [
    {
     "name": "stdout",
     "output_type": "stream",
     "text": [
      "['AFG', 'ALB', 'ALG', 'ASA', 'AND', 'ANG', 'ANT', 'ARG', 'ARM', 'ARU', 'AUS', 'AUT', 'AZE', 'BAH', 'BRN', 'BAN', 'BAR', 'BLR', 'BEL', 'BIZ', 'BEN', 'BER', 'BHU', 'BOL', 'BIH', 'BOT', 'BRA', 'BRU', 'BUL', 'BUR', 'BDI', 'CAM', 'CMR', 'CAN', 'CPV', 'CAY', 'CAF', 'CHA', 'CHI', 'CHN', 'TPE', 'COL', 'COM', 'CGO', 'COD', 'COK', 'CRC', 'CIV', 'CRO', 'CUB', 'CYP', 'CZE', 'DEN', 'DJI', 'DMA', 'DOM', 'ECU', 'EGY', 'ESA', 'GEQ', 'ERI', 'EST', 'SWZ', 'ETH', 'FIJ', 'FIN', 'FRA', 'GAB', 'GAM', 'GEO', 'GER', 'GHA', 'GBR', 'GRE', 'GRN', 'GUM', 'GUA', 'GUI', 'GBS', 'GUY', 'HAI', 'HON', 'HKG', 'HUN', 'ISL', 'IND', 'INA', 'IRI', 'IRQ', 'IRL', 'ISR', 'ITA', 'JAM', 'JPN', 'JOR', 'KAZ', 'KEN', 'KIR', 'PRK', 'KOR', 'KOS', 'KUW', 'KGZ', 'LAO', 'LAT', 'LBN', 'LES', 'LBR', 'LBA', 'LIE', 'LTU', 'LUX', 'MAD', 'MAW', 'MAS', 'MDV', 'MLI', 'MLT', 'MHL', 'MTN', 'MRI', 'MEX', 'FSM', 'MDA', 'MON', 'MGL', 'MNE', 'MAR', 'MOZ', 'MYA', 'NAM', 'NRU', 'NEP', 'NED', 'NZL', 'NCA', 'NIG', 'NGR', 'MKD', 'NOR', 'OMA', 'PAK', 'PLW', 'PLE', 'PAN', 'PNG', 'PAR', 'PER', 'PHI', 'POL', 'POR', 'PUR', 'QAT', 'ROU', 'RUS', 'RWA', 'SKN', 'LCA', 'VIN', 'SAM', 'SMR', 'STP', 'KSA', 'SEN', 'SRB', 'SEY', 'SLE', 'SGP', 'SVK', 'SLO', 'SOL', 'SOM', 'RSA', 'SSD', 'ESP', 'SRI', 'SUD', 'SUR', 'SWE', 'SUI', 'SYR', 'TJK', 'TAN', 'THA', 'TLS', 'TOG', 'TGA', 'TTO', 'TUN', 'TUR', 'TKM', 'TUV', 'UGA', 'UKR', 'UAE', 'USA', 'URU', 'UZB', 'VAN', 'VEN', 'VIE', 'IVB', 'ISV', 'YEM', 'ZAM', 'ZIM', 'ANZ', 'BOH', 'BWI', 'TCH', 'FRG', 'GDR', 'IOP', 'COR', 'MAL', 'AHO', 'NBO', 'OAR', 'ROC', 'RU1', 'SAR', 'SCG', 'EUN', 'EUA', 'URS', 'YAR', 'YMD', 'YUG', 'IOA', 'ZZX', 'ROT']\n"
     ]
    }
   ],
   "source": [
    "print(countries)"
   ]
  },
  {
   "cell_type": "code",
   "execution_count": 25,
   "metadata": {},
   "outputs": [],
   "source": [
    "for i in countries[0:1]:\n",
    "    url = 'http://olympanalyt.com/OlympAnalytics.php?param_pagetype=ResultsOfCountries&param_dbversion=&param_country=%s&param_games=ALL&param_sport=ALL' % (i)\n",
    "    df = pd.read_html(url, header = 1)[1]"
   ]
  },
  {
   "cell_type": "code",
   "execution_count": 26,
   "metadata": {},
   "outputs": [
    {
     "data": {
      "text/html": [
       "<div>\n",
       "<style scoped>\n",
       "    .dataframe tbody tr th:only-of-type {\n",
       "        vertical-align: middle;\n",
       "    }\n",
       "\n",
       "    .dataframe tbody tr th {\n",
       "        vertical-align: top;\n",
       "    }\n",
       "\n",
       "    .dataframe thead th {\n",
       "        text-align: right;\n",
       "    }\n",
       "</style>\n",
       "<table border=\"1\" class=\"dataframe\">\n",
       "  <thead>\n",
       "    <tr style=\"text-align: right;\">\n",
       "      <th></th>\n",
       "      <th>Medal</th>\n",
       "      <th>Athletes</th>\n",
       "      <th>Games</th>\n",
       "      <th>Sport</th>\n",
       "      <th>Event</th>\n",
       "      <th>Event.1</th>\n",
       "    </tr>\n",
       "  </thead>\n",
       "  <tbody>\n",
       "    <tr>\n",
       "      <th>0</th>\n",
       "      <td>NaN</td>\n",
       "      <td>Rohullah NIKPAI</td>\n",
       "      <td>2008 Beijing</td>\n",
       "      <td>Taekwondo</td>\n",
       "      <td>Men's</td>\n",
       "      <td>- 58 kg</td>\n",
       "    </tr>\n",
       "    <tr>\n",
       "      <th>1</th>\n",
       "      <td>NaN</td>\n",
       "      <td>Rohullah NIKPAI</td>\n",
       "      <td>2012 London</td>\n",
       "      <td>Taekwondo</td>\n",
       "      <td>Men's</td>\n",
       "      <td>58 - 68 kg</td>\n",
       "    </tr>\n",
       "    <tr>\n",
       "      <th>2</th>\n",
       "      <td>2.0</td>\n",
       "      <td>Total</td>\n",
       "      <td>Total</td>\n",
       "      <td>Total</td>\n",
       "      <td>Total</td>\n",
       "      <td>Total</td>\n",
       "    </tr>\n",
       "  </tbody>\n",
       "</table>\n",
       "</div>"
      ],
      "text/plain": [
       "   Medal         Athletes         Games      Sport  Event     Event.1\n",
       "0    NaN  Rohullah NIKPAI  2008 Beijing  Taekwondo  Men's     - 58 kg\n",
       "1    NaN  Rohullah NIKPAI   2012 London  Taekwondo  Men's  58 - 68 kg\n",
       "2    2.0            Total         Total      Total  Total       Total"
      ]
     },
     "execution_count": 26,
     "metadata": {},
     "output_type": "execute_result"
    }
   ],
   "source": [
    "df"
   ]
  },
  {
   "cell_type": "code",
   "execution_count": 27,
   "metadata": {},
   "outputs": [],
   "source": [
    "df = df.iloc[:-1 , :]"
   ]
  },
  {
   "cell_type": "code",
   "execution_count": 28,
   "metadata": {},
   "outputs": [
    {
     "data": {
      "text/html": [
       "<div>\n",
       "<style scoped>\n",
       "    .dataframe tbody tr th:only-of-type {\n",
       "        vertical-align: middle;\n",
       "    }\n",
       "\n",
       "    .dataframe tbody tr th {\n",
       "        vertical-align: top;\n",
       "    }\n",
       "\n",
       "    .dataframe thead th {\n",
       "        text-align: right;\n",
       "    }\n",
       "</style>\n",
       "<table border=\"1\" class=\"dataframe\">\n",
       "  <thead>\n",
       "    <tr style=\"text-align: right;\">\n",
       "      <th></th>\n",
       "      <th>Medal</th>\n",
       "      <th>Athletes</th>\n",
       "      <th>Games</th>\n",
       "      <th>Sport</th>\n",
       "      <th>Event</th>\n",
       "      <th>Event.1</th>\n",
       "    </tr>\n",
       "  </thead>\n",
       "  <tbody>\n",
       "    <tr>\n",
       "      <th>0</th>\n",
       "      <td>NaN</td>\n",
       "      <td>Rohullah NIKPAI</td>\n",
       "      <td>2008 Beijing</td>\n",
       "      <td>Taekwondo</td>\n",
       "      <td>Men's</td>\n",
       "      <td>- 58 kg</td>\n",
       "    </tr>\n",
       "    <tr>\n",
       "      <th>1</th>\n",
       "      <td>NaN</td>\n",
       "      <td>Rohullah NIKPAI</td>\n",
       "      <td>2012 London</td>\n",
       "      <td>Taekwondo</td>\n",
       "      <td>Men's</td>\n",
       "      <td>58 - 68 kg</td>\n",
       "    </tr>\n",
       "  </tbody>\n",
       "</table>\n",
       "</div>"
      ],
      "text/plain": [
       "   Medal         Athletes         Games      Sport  Event     Event.1\n",
       "0    NaN  Rohullah NIKPAI  2008 Beijing  Taekwondo  Men's     - 58 kg\n",
       "1    NaN  Rohullah NIKPAI   2012 London  Taekwondo  Men's  58 - 68 kg"
      ]
     },
     "execution_count": 28,
     "metadata": {},
     "output_type": "execute_result"
    }
   ],
   "source": [
    "df"
   ]
  },
  {
   "cell_type": "code",
   "execution_count": 29,
   "metadata": {},
   "outputs": [
    {
     "name": "stderr",
     "output_type": "stream",
     "text": [
      "<ipython-input-29-1cc030da8310>:18: SettingWithCopyWarning: \n",
      "A value is trying to be set on a copy of a slice from a DataFrame.\n",
      "Try using .loc[row_indexer,col_indexer] = value instead\n",
      "\n",
      "See the caveats in the documentation: https://pandas.pydata.org/pandas-docs/stable/user_guide/indexing.html#returning-a-view-versus-a-copy\n",
      "  df['links'] = links\n"
     ]
    }
   ],
   "source": [
    "response = requests.get(url)\n",
    "soup = BeautifulSoup(response.text, 'html.parser')\n",
    "table = soup.findAll('table')[2]\n",
    "\n",
    "links = []\n",
    "for tr in table.findAll(\"tr\"):\n",
    "    trs = tr.findAll(\"td\")\n",
    "    for each in trs:\n",
    "        link = each.find('img')\n",
    "#         print(link)\n",
    "        try:\n",
    "            link = each.find('img')['src']\n",
    "            if \"Medal\" in link:\n",
    "                links.append(link)\n",
    "        except:\n",
    "            pass\n",
    "\n",
    "df['links'] = links"
   ]
  },
  {
   "cell_type": "code",
   "execution_count": 30,
   "metadata": {},
   "outputs": [],
   "source": [
    "if df.shape[0] == 0:\n",
    "    df1 = pd.DataFrame([[np.nan] * len(df.columns)], columns=df.columns)\n",
    "    df = df1.append(df, ignore_index=True)"
   ]
  },
  {
   "cell_type": "code",
   "execution_count": 31,
   "metadata": {},
   "outputs": [
    {
     "name": "stderr",
     "output_type": "stream",
     "text": [
      "<ipython-input-31-33c2e2fc4b77>:1: SettingWithCopyWarning: \n",
      "A value is trying to be set on a copy of a slice from a DataFrame.\n",
      "Try using .loc[row_indexer,col_indexer] = value instead\n",
      "\n",
      "See the caveats in the documentation: https://pandas.pydata.org/pandas-docs/stable/user_guide/indexing.html#returning-a-view-versus-a-copy\n",
      "  df['country'] = i\n"
     ]
    }
   ],
   "source": [
    "df['country'] = i"
   ]
  },
  {
   "cell_type": "code",
   "execution_count": 32,
   "metadata": {},
   "outputs": [
    {
     "data": {
      "text/html": [
       "<div>\n",
       "<style scoped>\n",
       "    .dataframe tbody tr th:only-of-type {\n",
       "        vertical-align: middle;\n",
       "    }\n",
       "\n",
       "    .dataframe tbody tr th {\n",
       "        vertical-align: top;\n",
       "    }\n",
       "\n",
       "    .dataframe thead th {\n",
       "        text-align: right;\n",
       "    }\n",
       "</style>\n",
       "<table border=\"1\" class=\"dataframe\">\n",
       "  <thead>\n",
       "    <tr style=\"text-align: right;\">\n",
       "      <th></th>\n",
       "      <th>Medal</th>\n",
       "      <th>Athletes</th>\n",
       "      <th>Games</th>\n",
       "      <th>Sport</th>\n",
       "      <th>Event</th>\n",
       "      <th>Event.1</th>\n",
       "      <th>links</th>\n",
       "      <th>country</th>\n",
       "    </tr>\n",
       "  </thead>\n",
       "  <tbody>\n",
       "    <tr>\n",
       "      <th>0</th>\n",
       "      <td>NaN</td>\n",
       "      <td>Rohullah NIKPAI</td>\n",
       "      <td>2008 Beijing</td>\n",
       "      <td>Taekwondo</td>\n",
       "      <td>Men's</td>\n",
       "      <td>- 58 kg</td>\n",
       "      <td>Images/Medal_Bronze.png</td>\n",
       "      <td>AFG</td>\n",
       "    </tr>\n",
       "    <tr>\n",
       "      <th>1</th>\n",
       "      <td>NaN</td>\n",
       "      <td>Rohullah NIKPAI</td>\n",
       "      <td>2012 London</td>\n",
       "      <td>Taekwondo</td>\n",
       "      <td>Men's</td>\n",
       "      <td>58 - 68 kg</td>\n",
       "      <td>Images/Medal_Bronze.png</td>\n",
       "      <td>AFG</td>\n",
       "    </tr>\n",
       "  </tbody>\n",
       "</table>\n",
       "</div>"
      ],
      "text/plain": [
       "   Medal         Athletes         Games      Sport  Event     Event.1  \\\n",
       "0    NaN  Rohullah NIKPAI  2008 Beijing  Taekwondo  Men's     - 58 kg   \n",
       "1    NaN  Rohullah NIKPAI   2012 London  Taekwondo  Men's  58 - 68 kg   \n",
       "\n",
       "                     links country  \n",
       "0  Images/Medal_Bronze.png     AFG  \n",
       "1  Images/Medal_Bronze.png     AFG  "
      ]
     },
     "execution_count": 32,
     "metadata": {},
     "output_type": "execute_result"
    }
   ],
   "source": [
    "df.head()"
   ]
  },
  {
   "cell_type": "code",
   "execution_count": 44,
   "metadata": {},
   "outputs": [
    {
     "name": "stderr",
     "output_type": "stream",
     "text": [
      "100%|████████████████████████████████████████████████████████████████████████████████| 229/229 [07:18<00:00,  1.92s/it]\n"
     ]
    }
   ],
   "source": [
    "for i in tqdm(countries[2:]):\n",
    "    try:\n",
    "        url = 'http://olympanalyt.com/OlympAnalytics.php?param_pagetype=ResultsOfCountries&param_dbversion=&param_country=%s&param_games=ALL&param_sport=ALL' % (i)\n",
    "        df1 = pd.read_html(url, header = 1)[1]\n",
    "        df1 = df1.iloc[:-1 , :]\n",
    "        response = requests.get(url)\n",
    "        soup = BeautifulSoup(response.text, 'html.parser')\n",
    "        table = soup.findAll('table')[2]\n",
    "\n",
    "        links = []\n",
    "        for tr in table.findAll(\"tr\"):\n",
    "            trs = tr.findAll(\"td\")\n",
    "            for each in trs:\n",
    "                link = each.find('img')\n",
    "    #         print(link)\n",
    "                try:\n",
    "                    link = each.find('img')['src']\n",
    "                    if \"Medal\" in link:\n",
    "                        links.append(link)\n",
    "                except:\n",
    "                    pass\n",
    "\n",
    "        df1['links'] = links\n",
    "        if df1.shape[0] == 0:\n",
    "            df2 = pd.DataFrame([[np.nan] * len(df1.columns)], columns=df1.columns)\n",
    "            df1 = df2.append(df1, ignore_index=True)\n",
    "        df1['country'] = i\n",
    "        df = df.append(df1, ignore_index = True)\n",
    "    except Exception as e:\n",
    "        print(e)\n",
    "        print(i)"
   ]
  },
  {
   "cell_type": "code",
   "execution_count": 54,
   "metadata": {},
   "outputs": [
    {
     "data": {
      "text/plain": [
       "Medal       float64\n",
       "Athletes     object\n",
       "Games        object\n",
       "Sport        object\n",
       "Event        object\n",
       "Event.1      object\n",
       "links        object\n",
       "country      object\n",
       "dtype: object"
      ]
     },
     "execution_count": 54,
     "metadata": {},
     "output_type": "execute_result"
    }
   ],
   "source": [
    "df.dtypes"
   ]
  },
  {
   "cell_type": "code",
   "execution_count": 56,
   "metadata": {},
   "outputs": [],
   "source": [
    "df = df.fillna(\"NaN\")"
   ]
  },
  {
   "cell_type": "code",
   "execution_count": 57,
   "metadata": {},
   "outputs": [
    {
     "data": {
      "text/html": [
       "<div>\n",
       "<style scoped>\n",
       "    .dataframe tbody tr th:only-of-type {\n",
       "        vertical-align: middle;\n",
       "    }\n",
       "\n",
       "    .dataframe tbody tr th {\n",
       "        vertical-align: top;\n",
       "    }\n",
       "\n",
       "    .dataframe thead th {\n",
       "        text-align: right;\n",
       "    }\n",
       "</style>\n",
       "<table border=\"1\" class=\"dataframe\">\n",
       "  <thead>\n",
       "    <tr style=\"text-align: right;\">\n",
       "      <th></th>\n",
       "      <th>Medal</th>\n",
       "      <th>Athletes</th>\n",
       "      <th>Games</th>\n",
       "      <th>Sport</th>\n",
       "      <th>Event</th>\n",
       "      <th>Event.1</th>\n",
       "      <th>links</th>\n",
       "      <th>country</th>\n",
       "    </tr>\n",
       "  </thead>\n",
       "  <tbody>\n",
       "    <tr>\n",
       "      <th>0</th>\n",
       "      <td>NaN</td>\n",
       "      <td>Rohullah NIKPAI</td>\n",
       "      <td>2008 Beijing</td>\n",
       "      <td>Taekwondo</td>\n",
       "      <td>Men's</td>\n",
       "      <td>- 58 kg</td>\n",
       "      <td>Images/Medal_Bronze.png</td>\n",
       "      <td>AFG</td>\n",
       "    </tr>\n",
       "    <tr>\n",
       "      <th>1</th>\n",
       "      <td>NaN</td>\n",
       "      <td>Rohullah NIKPAI</td>\n",
       "      <td>2012 London</td>\n",
       "      <td>Taekwondo</td>\n",
       "      <td>Men's</td>\n",
       "      <td>58 - 68 kg</td>\n",
       "      <td>Images/Medal_Bronze.png</td>\n",
       "      <td>AFG</td>\n",
       "    </tr>\n",
       "    <tr>\n",
       "      <th>2</th>\n",
       "      <td>NaN</td>\n",
       "      <td>NaN</td>\n",
       "      <td>NaN</td>\n",
       "      <td>NaN</td>\n",
       "      <td>NaN</td>\n",
       "      <td>NaN</td>\n",
       "      <td>NaN</td>\n",
       "      <td>ALB</td>\n",
       "    </tr>\n",
       "    <tr>\n",
       "      <th>3</th>\n",
       "      <td>NaN</td>\n",
       "      <td>Mohamed ZAOUI</td>\n",
       "      <td>1984 Los Angeles</td>\n",
       "      <td>Boxing</td>\n",
       "      <td>Men's</td>\n",
       "      <td>71 - 75kg (middleweight)</td>\n",
       "      <td>Images/Medal_Bronze.png</td>\n",
       "      <td>ALG</td>\n",
       "    </tr>\n",
       "    <tr>\n",
       "      <th>4</th>\n",
       "      <td>NaN</td>\n",
       "      <td>Mustapha MOUSSA</td>\n",
       "      <td>1984 Los Angeles</td>\n",
       "      <td>Boxing</td>\n",
       "      <td>Men's</td>\n",
       "      <td>75 - 81kg (light-heavyweight)</td>\n",
       "      <td>Images/Medal_Bronze.png</td>\n",
       "      <td>ALG</td>\n",
       "    </tr>\n",
       "  </tbody>\n",
       "</table>\n",
       "</div>"
      ],
      "text/plain": [
       "  Medal         Athletes             Games      Sport  Event  \\\n",
       "0   NaN  Rohullah NIKPAI      2008 Beijing  Taekwondo  Men's   \n",
       "1   NaN  Rohullah NIKPAI       2012 London  Taekwondo  Men's   \n",
       "2   NaN              NaN               NaN        NaN    NaN   \n",
       "3   NaN    Mohamed ZAOUI  1984 Los Angeles     Boxing  Men's   \n",
       "4   NaN  Mustapha MOUSSA  1984 Los Angeles     Boxing  Men's   \n",
       "\n",
       "                         Event.1                    links country  \n",
       "0                        - 58 kg  Images/Medal_Bronze.png     AFG  \n",
       "1                     58 - 68 kg  Images/Medal_Bronze.png     AFG  \n",
       "2                            NaN                      NaN     ALB  \n",
       "3       71 - 75kg (middleweight)  Images/Medal_Bronze.png     ALG  \n",
       "4  75 - 81kg (light-heavyweight)  Images/Medal_Bronze.png     ALG  "
      ]
     },
     "execution_count": 57,
     "metadata": {},
     "output_type": "execute_result"
    }
   ],
   "source": [
    "df.head()"
   ]
  },
  {
   "cell_type": "code",
   "execution_count": 58,
   "metadata": {},
   "outputs": [],
   "source": [
    "def medals(x):\n",
    "    medal = None\n",
    "    if \"Gold\" in x:\n",
    "        medal = 'Gold'\n",
    "    elif \"Silver\" in x:\n",
    "        medal = 'Silver'\n",
    "    elif \"Bronze\" in x:\n",
    "        medal = 'Bronze'\n",
    "    else:\n",
    "        medal = x\n",
    "    return medal "
   ]
  },
  {
   "cell_type": "code",
   "execution_count": 59,
   "metadata": {},
   "outputs": [],
   "source": [
    "df['medals_corrected'] = df['links'].apply(lambda x: medals(x))"
   ]
  },
  {
   "cell_type": "code",
   "execution_count": 62,
   "metadata": {},
   "outputs": [],
   "source": [
    "df.to_csv(\"olympics_2020.csv\", index = None)"
   ]
  }
 ],
 "metadata": {
  "kernelspec": {
   "display_name": "Python 3",
   "language": "python",
   "name": "python3"
  },
  "language_info": {
   "codemirror_mode": {
    "name": "ipython",
    "version": 3
   },
   "file_extension": ".py",
   "mimetype": "text/x-python",
   "name": "python",
   "nbconvert_exporter": "python",
   "pygments_lexer": "ipython3",
   "version": "3.8.3"
  }
 },
 "nbformat": 4,
 "nbformat_minor": 4
}
