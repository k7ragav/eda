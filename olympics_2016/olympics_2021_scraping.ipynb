{
 "cells": [
  {
   "cell_type": "code",
   "execution_count": 114,
   "metadata": {},
   "outputs": [],
   "source": [
    "import pandas as pd\n",
    "import requests\n",
    "from bs4 import BeautifulSoup\n",
    "import numpy as np"
   ]
  },
  {
   "cell_type": "code",
   "execution_count": 124,
   "metadata": {},
   "outputs": [],
   "source": [
    "url = 'http://olympanalyt.com/OlympAnalytics.php?param_pagetype=ResultsOfCountries&param_dbversion=&param_country=QAT&param_games=ALL&param_sport=ALL'\n",
    "df = pd.read_html(url, header = 1)[1]"
   ]
  },
  {
   "cell_type": "code",
   "execution_count": 119,
   "metadata": {},
   "outputs": [
    {
     "data": {
      "text/html": [
       "<div>\n",
       "<style scoped>\n",
       "    .dataframe tbody tr th:only-of-type {\n",
       "        vertical-align: middle;\n",
       "    }\n",
       "\n",
       "    .dataframe tbody tr th {\n",
       "        vertical-align: top;\n",
       "    }\n",
       "\n",
       "    .dataframe thead th {\n",
       "        text-align: right;\n",
       "    }\n",
       "</style>\n",
       "<table border=\"1\" class=\"dataframe\">\n",
       "  <thead>\n",
       "    <tr style=\"text-align: right;\">\n",
       "      <th></th>\n",
       "      <th>Medal</th>\n",
       "      <th>Athletes</th>\n",
       "      <th>Games</th>\n",
       "      <th>Sport</th>\n",
       "      <th>Event</th>\n",
       "      <th>Event.1</th>\n",
       "    </tr>\n",
       "  </thead>\n",
       "  <tbody>\n",
       "    <tr>\n",
       "      <th>0</th>\n",
       "      <td>0</td>\n",
       "      <td>Total</td>\n",
       "      <td>Total</td>\n",
       "      <td>Total</td>\n",
       "      <td>Total</td>\n",
       "      <td>Total</td>\n",
       "    </tr>\n",
       "  </tbody>\n",
       "</table>\n",
       "</div>"
      ],
      "text/plain": [
       "   Medal Athletes  Games  Sport  Event Event.1\n",
       "0      0    Total  Total  Total  Total   Total"
      ]
     },
     "execution_count": 119,
     "metadata": {},
     "output_type": "execute_result"
    }
   ],
   "source": [
    "df"
   ]
  },
  {
   "cell_type": "code",
   "execution_count": 125,
   "metadata": {},
   "outputs": [],
   "source": [
    "df = df.iloc[:-1 , :]"
   ]
  },
  {
   "cell_type": "code",
   "execution_count": 126,
   "metadata": {},
   "outputs": [
    {
     "data": {
      "text/html": [
       "<div>\n",
       "<style scoped>\n",
       "    .dataframe tbody tr th:only-of-type {\n",
       "        vertical-align: middle;\n",
       "    }\n",
       "\n",
       "    .dataframe tbody tr th {\n",
       "        vertical-align: top;\n",
       "    }\n",
       "\n",
       "    .dataframe thead th {\n",
       "        text-align: right;\n",
       "    }\n",
       "</style>\n",
       "<table border=\"1\" class=\"dataframe\">\n",
       "  <thead>\n",
       "    <tr style=\"text-align: right;\">\n",
       "      <th></th>\n",
       "      <th>Medal</th>\n",
       "      <th>Athletes</th>\n",
       "      <th>Games</th>\n",
       "      <th>Sport</th>\n",
       "      <th>Event</th>\n",
       "      <th>Event.1</th>\n",
       "    </tr>\n",
       "  </thead>\n",
       "  <tbody>\n",
       "    <tr>\n",
       "      <th>0</th>\n",
       "      <td>NaN</td>\n",
       "      <td>Mohamed Ahmed SULAIMAN</td>\n",
       "      <td>1992 Barcelona</td>\n",
       "      <td>Athletics</td>\n",
       "      <td>Men's</td>\n",
       "      <td>1500m</td>\n",
       "    </tr>\n",
       "    <tr>\n",
       "      <th>1</th>\n",
       "      <td>NaN</td>\n",
       "      <td>Саид Асаад</td>\n",
       "      <td>2000 Sydney</td>\n",
       "      <td>Weightlifting</td>\n",
       "      <td>Men's</td>\n",
       "      <td>94 - 105kg (heavyweight)</td>\n",
       "    </tr>\n",
       "    <tr>\n",
       "      <th>2</th>\n",
       "      <td>NaN</td>\n",
       "      <td>Mutaz Essa BARSHIM</td>\n",
       "      <td>2012 London</td>\n",
       "      <td>Athletics</td>\n",
       "      <td>Men's</td>\n",
       "      <td>high jump</td>\n",
       "    </tr>\n",
       "    <tr>\n",
       "      <th>3</th>\n",
       "      <td>NaN</td>\n",
       "      <td>Nasser AL-ATTIYAH</td>\n",
       "      <td>2012 London</td>\n",
       "      <td>Shooting</td>\n",
       "      <td>Men's</td>\n",
       "      <td>Skeet</td>\n",
       "    </tr>\n",
       "    <tr>\n",
       "      <th>4</th>\n",
       "      <td>NaN</td>\n",
       "      <td>BARSHIM Mutaz Essa</td>\n",
       "      <td>2016 Rio de Janeiro</td>\n",
       "      <td>Athletics</td>\n",
       "      <td>Men's</td>\n",
       "      <td>high jump</td>\n",
       "    </tr>\n",
       "    <tr>\n",
       "      <th>5</th>\n",
       "      <td>NaN</td>\n",
       "      <td>BARSHIM Mutaz Essa</td>\n",
       "      <td>2021 Tokyo</td>\n",
       "      <td>Athletics</td>\n",
       "      <td>Men's</td>\n",
       "      <td>high jump</td>\n",
       "    </tr>\n",
       "    <tr>\n",
       "      <th>6</th>\n",
       "      <td>NaN</td>\n",
       "      <td>ELBAKH Fares Ibrahim E H</td>\n",
       "      <td>2021 Tokyo</td>\n",
       "      <td>Weightlifting</td>\n",
       "      <td>Men's</td>\n",
       "      <td>96kg</td>\n",
       "    </tr>\n",
       "    <tr>\n",
       "      <th>7</th>\n",
       "      <td>NaN</td>\n",
       "      <td>TIJAN AhmedYOUNOUSSE Cherif</td>\n",
       "      <td>2021 Tokyo</td>\n",
       "      <td>Beach Volleyball</td>\n",
       "      <td>Men's</td>\n",
       "      <td>beach volleyball</td>\n",
       "    </tr>\n",
       "  </tbody>\n",
       "</table>\n",
       "</div>"
      ],
      "text/plain": [
       "   Medal                     Athletes                Games             Sport  \\\n",
       "0    NaN       Mohamed Ahmed SULAIMAN       1992 Barcelona         Athletics   \n",
       "1    NaN                   Саид Асаад          2000 Sydney     Weightlifting   \n",
       "2    NaN           Mutaz Essa BARSHIM          2012 London         Athletics   \n",
       "3    NaN            Nasser AL-ATTIYAH          2012 London          Shooting   \n",
       "4    NaN           BARSHIM Mutaz Essa  2016 Rio de Janeiro         Athletics   \n",
       "5    NaN           BARSHIM Mutaz Essa           2021 Tokyo         Athletics   \n",
       "6    NaN     ELBAKH Fares Ibrahim E H           2021 Tokyo     Weightlifting   \n",
       "7    NaN  TIJAN AhmedYOUNOUSSE Cherif           2021 Tokyo  Beach Volleyball   \n",
       "\n",
       "   Event                   Event.1  \n",
       "0  Men's                     1500m  \n",
       "1  Men's  94 - 105kg (heavyweight)  \n",
       "2  Men's                 high jump  \n",
       "3  Men's                     Skeet  \n",
       "4  Men's                 high jump  \n",
       "5  Men's                 high jump  \n",
       "6  Men's                      96kg  \n",
       "7  Men's          beach volleyball  "
      ]
     },
     "execution_count": 126,
     "metadata": {},
     "output_type": "execute_result"
    }
   ],
   "source": [
    "df"
   ]
  },
  {
   "cell_type": "code",
   "execution_count": 121,
   "metadata": {},
   "outputs": [],
   "source": [
    "response = requests.get(url)\n",
    "soup = BeautifulSoup(response.text, 'html.parser')\n",
    "table = soup.findAll('table')[2]\n",
    "\n",
    "links = []\n",
    "for tr in table.findAll(\"tr\"):\n",
    "    trs = tr.findAll(\"td\")\n",
    "    for each in trs:\n",
    "        link = each.find('img')\n",
    "#         print(link)\n",
    "        try:\n",
    "            link = each.find('img')['src']\n",
    "            if \"Medal\" in link:\n",
    "                links.append(link)\n",
    "        except:\n",
    "            pass\n",
    "\n",
    "df['links'] = links"
   ]
  },
  {
   "cell_type": "code",
   "execution_count": 122,
   "metadata": {},
   "outputs": [],
   "source": [
    "if df.shape[0] == 0:\n",
    "    df1 = pd.DataFrame([[np.nan] * len(df.columns)], columns=df.columns)\n",
    "    df = df1.append(df, ignore_index=True)"
   ]
  },
  {
   "cell_type": "code",
   "execution_count": 123,
   "metadata": {},
   "outputs": [
    {
     "data": {
      "text/html": [
       "<div>\n",
       "<style scoped>\n",
       "    .dataframe tbody tr th:only-of-type {\n",
       "        vertical-align: middle;\n",
       "    }\n",
       "\n",
       "    .dataframe tbody tr th {\n",
       "        vertical-align: top;\n",
       "    }\n",
       "\n",
       "    .dataframe thead th {\n",
       "        text-align: right;\n",
       "    }\n",
       "</style>\n",
       "<table border=\"1\" class=\"dataframe\">\n",
       "  <thead>\n",
       "    <tr style=\"text-align: right;\">\n",
       "      <th></th>\n",
       "      <th>Medal</th>\n",
       "      <th>Athletes</th>\n",
       "      <th>Games</th>\n",
       "      <th>Sport</th>\n",
       "      <th>Event</th>\n",
       "      <th>Event.1</th>\n",
       "      <th>links</th>\n",
       "    </tr>\n",
       "  </thead>\n",
       "  <tbody>\n",
       "    <tr>\n",
       "      <th>0</th>\n",
       "      <td>NaN</td>\n",
       "      <td>NaN</td>\n",
       "      <td>NaN</td>\n",
       "      <td>NaN</td>\n",
       "      <td>NaN</td>\n",
       "      <td>NaN</td>\n",
       "      <td>NaN</td>\n",
       "    </tr>\n",
       "  </tbody>\n",
       "</table>\n",
       "</div>"
      ],
      "text/plain": [
       "   Medal Athletes Games Sport Event Event.1  links\n",
       "0    NaN      NaN   NaN   NaN   NaN     NaN    NaN"
      ]
     },
     "execution_count": 123,
     "metadata": {},
     "output_type": "execute_result"
    }
   ],
   "source": [
    "df"
   ]
  },
  {
   "cell_type": "code",
   "execution_count": 106,
   "metadata": {},
   "outputs": [
    {
     "ename": "AttributeError",
     "evalue": "'function' object has no attribute 'head'",
     "output_type": "error",
     "traceback": [
      "\u001b[1;31m---------------------------------------------------------------------------\u001b[0m",
      "\u001b[1;31mAttributeError\u001b[0m                            Traceback (most recent call last)",
      "\u001b[1;32m<ipython-input-106-c42a15b2c7cf>\u001b[0m in \u001b[0;36m<module>\u001b[1;34m\u001b[0m\n\u001b[1;32m----> 1\u001b[1;33m \u001b[0mdf\u001b[0m\u001b[1;33m.\u001b[0m\u001b[0mhead\u001b[0m\u001b[1;33m(\u001b[0m\u001b[1;33m)\u001b[0m\u001b[1;33m\u001b[0m\u001b[1;33m\u001b[0m\u001b[0m\n\u001b[0m",
      "\u001b[1;31mAttributeError\u001b[0m: 'function' object has no attribute 'head'"
     ]
    }
   ],
   "source": [
    "df.head()"
   ]
  }
 ],
 "metadata": {
  "kernelspec": {
   "display_name": "Python 3",
   "language": "python",
   "name": "python3"
  },
  "language_info": {
   "codemirror_mode": {
    "name": "ipython",
    "version": 3
   },
   "file_extension": ".py",
   "mimetype": "text/x-python",
   "name": "python",
   "nbconvert_exporter": "python",
   "pygments_lexer": "ipython3",
   "version": "3.8.5"
  }
 },
 "nbformat": 4,
 "nbformat_minor": 4
}
