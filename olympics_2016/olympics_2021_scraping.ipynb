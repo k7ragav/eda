{
 "cells": [
  {
   "cell_type": "code",
   "execution_count": 10,
   "metadata": {},
   "outputs": [],
   "source": [
    "import pandas as pd\n",
    "import requests\n",
    "from bs4 import BeautifulSoup"
   ]
  },
  {
   "cell_type": "code",
   "execution_count": 8,
   "metadata": {},
   "outputs": [],
   "source": [
    "url = 'http://olympanalyt.com/OlympAnalytics.php?param_pagetype=ResultsOfCountries&param_dbversion=&param_country=QAT&param_games=ALL&param_sport=ALL'\n",
    "df = pd.read_html(url)[2]"
   ]
  },
  {
   "cell_type": "code",
   "execution_count": 9,
   "metadata": {},
   "outputs": [
    {
     "data": {
      "text/html": [
       "<div>\n",
       "<style scoped>\n",
       "    .dataframe tbody tr th:only-of-type {\n",
       "        vertical-align: middle;\n",
       "    }\n",
       "\n",
       "    .dataframe tbody tr th {\n",
       "        vertical-align: top;\n",
       "    }\n",
       "\n",
       "    .dataframe thead tr th {\n",
       "        text-align: left;\n",
       "    }\n",
       "</style>\n",
       "<table border=\"1\" class=\"dataframe\">\n",
       "  <thead>\n",
       "    <tr>\n",
       "      <th></th>\n",
       "      <th colspan=\"6\" halign=\"left\">Results at Games</th>\n",
       "    </tr>\n",
       "    <tr>\n",
       "      <th></th>\n",
       "      <th>Medal</th>\n",
       "      <th>Athletes</th>\n",
       "      <th>Games</th>\n",
       "      <th>Sport</th>\n",
       "      <th>Event</th>\n",
       "      <th>Event.1</th>\n",
       "    </tr>\n",
       "  </thead>\n",
       "  <tbody>\n",
       "    <tr>\n",
       "      <th>0</th>\n",
       "      <td>NaN</td>\n",
       "      <td>Mohamed Ahmed SULAIMAN</td>\n",
       "      <td>1992 Barcelona</td>\n",
       "      <td>Athletics</td>\n",
       "      <td>Men's</td>\n",
       "      <td>1500m</td>\n",
       "    </tr>\n",
       "    <tr>\n",
       "      <th>1</th>\n",
       "      <td>NaN</td>\n",
       "      <td>Саид Асаад</td>\n",
       "      <td>2000 Sydney</td>\n",
       "      <td>Weightlifting</td>\n",
       "      <td>Men's</td>\n",
       "      <td>94 - 105kg (heavyweight)</td>\n",
       "    </tr>\n",
       "    <tr>\n",
       "      <th>2</th>\n",
       "      <td>NaN</td>\n",
       "      <td>Mutaz Essa BARSHIM</td>\n",
       "      <td>2012 London</td>\n",
       "      <td>Athletics</td>\n",
       "      <td>Men's</td>\n",
       "      <td>high jump</td>\n",
       "    </tr>\n",
       "    <tr>\n",
       "      <th>3</th>\n",
       "      <td>NaN</td>\n",
       "      <td>Nasser AL-ATTIYAH</td>\n",
       "      <td>2012 London</td>\n",
       "      <td>Shooting</td>\n",
       "      <td>Men's</td>\n",
       "      <td>Skeet</td>\n",
       "    </tr>\n",
       "    <tr>\n",
       "      <th>4</th>\n",
       "      <td>NaN</td>\n",
       "      <td>BARSHIM Mutaz Essa</td>\n",
       "      <td>2016 Rio de Janeiro</td>\n",
       "      <td>Athletics</td>\n",
       "      <td>Men's</td>\n",
       "      <td>high jump</td>\n",
       "    </tr>\n",
       "  </tbody>\n",
       "</table>\n",
       "</div>"
      ],
      "text/plain": [
       "  Results at Games                                               \\\n",
       "             Medal                Athletes                Games   \n",
       "0              NaN  Mohamed Ahmed SULAIMAN       1992 Barcelona   \n",
       "1              NaN              Саид Асаад          2000 Sydney   \n",
       "2              NaN      Mutaz Essa BARSHIM          2012 London   \n",
       "3              NaN       Nasser AL-ATTIYAH          2012 London   \n",
       "4              NaN      BARSHIM Mutaz Essa  2016 Rio de Janeiro   \n",
       "\n",
       "                                                   \n",
       "           Sport  Event                   Event.1  \n",
       "0      Athletics  Men's                     1500m  \n",
       "1  Weightlifting  Men's  94 - 105kg (heavyweight)  \n",
       "2      Athletics  Men's                 high jump  \n",
       "3       Shooting  Men's                     Skeet  \n",
       "4      Athletics  Men's                 high jump  "
      ]
     },
     "execution_count": 9,
     "metadata": {},
     "output_type": "execute_result"
    }
   ],
   "source": [
    "df.head()"
   ]
  },
  {
   "cell_type": "code",
   "execution_count": 23,
   "metadata": {},
   "outputs": [
    {
     "name": "stdout",
     "output_type": "stream",
     "text": [
      "['Images/Medal_Bronze.png', 'Images/Flag_ESP.png', 'Images/Sport_Athletics.png', 'Images/Medal_Bronze.png', 'Images/Flag_AUS.png', 'Images/Sport_Weightlifting.png', 'Images/Medal_Bronze.png', 'Images/Flag_GBR.png', 'Images/Sport_Athletics.png', 'Images/Medal_Bronze.png', 'Images/Flag_GBR.png', 'Images/Sport_Shooting.png', 'Images/Medal_Silver.png', 'Images/Flag_BRA.png', 'Images/Sport_Athletics.png', 'Images/Medal_Gold.png', 'Images/Flag_JPN.png', 'Images/Sport_Athletics.png', 'Images/Medal_Gold.png', 'Images/Flag_JPN.png', 'Images/Sport_Weightlifting.png', 'Images/Medal_Bronze.png', 'Images/Flag_JPN.png', 'Images/Sport_Beach_Volleyball.png']\n"
     ]
    }
   ],
   "source": [
    "response = requests.get(url)\n",
    "soup = BeautifulSoup(response.text, 'html.parser')\n",
    "table = soup.findAll('table')[2]\n",
    "\n",
    "links = []\n",
    "for tr in table.findAll(\"tr\"):\n",
    "    trs = tr.findAll(\"td\")\n",
    "    for each in trs:\n",
    "        link = each.find('img')\n",
    "#         print(link)\n",
    "        try:\n",
    "            link = each.find('img')['src']\n",
    "            links.append(link)\n",
    "        except:\n",
    "            pass\n",
    "\n",
    "print(links)"
   ]
  }
 ],
 "metadata": {
  "kernelspec": {
   "display_name": "Python 3",
   "language": "python",
   "name": "python3"
  },
  "language_info": {
   "codemirror_mode": {
    "name": "ipython",
    "version": 3
   },
   "file_extension": ".py",
   "mimetype": "text/x-python",
   "name": "python",
   "nbconvert_exporter": "python",
   "pygments_lexer": "ipython3",
   "version": "3.8.5"
  }
 },
 "nbformat": 4,
 "nbformat_minor": 4
}
